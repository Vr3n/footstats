{
 "cells": [
  {
   "cell_type": "code",
   "execution_count": 14,
   "metadata": {},
   "outputs": [],
   "source": [
    "import json\n",
    "import random\n",
    "from selenium import webdriver\n",
    "from selenium.webdriver.chrome.service import Service as ChromeService\n",
    "from webdriver_manager.chrome import ChromeDriverManager"
   ]
  },
  {
   "cell_type": "code",
   "execution_count": 15,
   "metadata": {},
   "outputs": [],
   "source": [
    "user_agent_list = [ \n",
    "\t'Mozilla/5.0 (Windows NT 10.0; Win64; x64) AppleWebKit/537.36 (KHTML, like Gecko) Chrome/109.0.0.0 Safari/537.36', \n",
    "\t'Mozilla/5.0 (Macintosh; Intel Mac OS X 10_15_7) AppleWebKit/537.36 (KHTML, like Gecko) Chrome/108.0.0.0 Safari/537.36', \n",
    "\t'Mozilla/5.0 (Macintosh; Intel Mac OS X 13_1) AppleWebKit/605.1.15 (KHTML, like Gecko) Version/16.1 Safari/605.1.15', \n",
    "]\n",
    "user_agent = None\n",
    "\n",
    "for i in range(1, 4):\n",
    "    user_agent = random.choice(user_agent_list)"
   ]
  },
  {
   "cell_type": "code",
   "execution_count": 16,
   "metadata": {},
   "outputs": [],
   "source": [
    "options = webdriver.ChromeOptions()\n",
    "options.set_capability(\n",
    "    \"goog:loggingPrefs\", {'performance': \"ALL\", \"browser\": \"ALL\"},\n",
    ")\n",
    "options.add_argument(\n",
    "    f'--user-agent={user_agent}'\n",
    ")\n",
    "\n",
    "\n",
    "driver = webdriver.Chrome(service=ChromeService(\n",
    "    ChromeDriverManager().install()), options=options)"
   ]
  },
  {
   "cell_type": "code",
   "execution_count": 17,
   "metadata": {},
   "outputs": [],
   "source": [
    "driver.set_page_load_timeout(600)\n",
    "\n",
    "try:\n",
    "    driver.get('https://www.sofascore.com/atalanta-bayer-04-leverkusen/GdbsLdb#id:12173473')\n",
    "except:\n",
    "    pass\n",
    "\n",
    "driver.execute_script(\"window.scrollTo(0, document.body.scrollHeight);\")"
   ]
  },
  {
   "cell_type": "code",
   "execution_count": 18,
   "metadata": {},
   "outputs": [],
   "source": [
    "logs_raw = driver.get_log('performance')\n",
    "\n",
    "logs = [json.loads(lr['message'])['message'] for lr in logs_raw]"
   ]
  },
  {
   "cell_type": "code",
   "execution_count": 19,
   "metadata": {},
   "outputs": [
    {
     "name": "stdout",
     "output_type": "stream",
     "text": [
      "/api/v1/event/12173473/statistics\n"
     ]
    }
   ],
   "source": [
    "for x in logs:\n",
    "    if 'statistics' in x['params'].get('headers', {}).get(':path', ''):\n",
    "        print(x['params'].get('headers', {}).get(':path', ''))\n",
    "        break"
   ]
  },
  {
   "cell_type": "code",
   "execution_count": 20,
   "metadata": {},
   "outputs": [
    {
     "data": {
      "text/plain": [
       "'8208.202'"
      ]
     },
     "execution_count": 20,
     "metadata": {},
     "output_type": "execute_result"
    }
   ],
   "source": [
    "x['params']['requestId']"
   ]
  },
  {
   "cell_type": "code",
   "execution_count": 21,
   "metadata": {},
   "outputs": [
    {
     "ename": "WebDriverException",
     "evalue": "Message: unknown error: unhandled inspector error: {\"code\":-32000,\"message\":\"No data found for resource with given identifier\"}\n  (Session info: chrome=125.0.6422.77)\nStacktrace:\n\tGetHandleVerifier [0x0076B793+45827]\n\t(No symbol) [0x006FDB74]\n\t(No symbol) [0x005F150F]\n\t(No symbol) [0x005DC93D]\n\t(No symbol) [0x005DB5C3]\n\t(No symbol) [0x005DBD1D]\n\t(No symbol) [0x005DBCB8]\n\t(No symbol) [0x005F4244]\n\t(No symbol) [0x006769B1]\n\t(No symbol) [0x00652DFC]\n\t(No symbol) [0x0066C034]\n\t(No symbol) [0x00652B96]\n\t(No symbol) [0x00626998]\n\t(No symbol) [0x0062751D]\n\tGetHandleVerifier [0x00A243C3+2899763]\n\tGetHandleVerifier [0x00A777ED+3240797]\n\tGetHandleVerifier [0x007F1264+593364]\n\tGetHandleVerifier [0x007F818C+621820]\n\t(No symbol) [0x00706F54]\n\t(No symbol) [0x00703658]\n\t(No symbol) [0x007037F7]\n\t(No symbol) [0x006F58AE]\n\tBaseThreadInitThunk [0x75C67BA9+25]\n\tRtlInitializeExceptionChain [0x77E6BE3B+107]\n\tRtlClearBits [0x77E6BDBF+191]\n",
     "output_type": "error",
     "traceback": [
      "\u001b[1;31m---------------------------------------------------------------------------\u001b[0m",
      "\u001b[1;31mWebDriverException\u001b[0m                        Traceback (most recent call last)",
      "Cell \u001b[1;32mIn[21], line 1\u001b[0m\n\u001b[1;32m----> 1\u001b[0m driver\u001b[38;5;241m.\u001b[39mexecute_cdp_cmd(\u001b[38;5;124m'\u001b[39m\u001b[38;5;124mNetwork.getResponseBody\u001b[39m\u001b[38;5;124m'\u001b[39m, { \u001b[38;5;124m'\u001b[39m\u001b[38;5;124mrequestId\u001b[39m\u001b[38;5;124m'\u001b[39m: x[\u001b[38;5;124m'\u001b[39m\u001b[38;5;124mparams\u001b[39m\u001b[38;5;124m'\u001b[39m][\u001b[38;5;124m'\u001b[39m\u001b[38;5;124mrequestId\u001b[39m\u001b[38;5;124m'\u001b[39m] })\n",
      "File \u001b[1;32m~\\.conda\\envs\\footstats\\Lib\\site-packages\\selenium\\webdriver\\chromium\\webdriver.py:141\u001b[0m, in \u001b[0;36mChromiumDriver.execute_cdp_cmd\u001b[1;34m(self, cmd, cmd_args)\u001b[0m\n\u001b[0;32m    123\u001b[0m \u001b[38;5;28;01mdef\u001b[39;00m \u001b[38;5;21mexecute_cdp_cmd\u001b[39m(\u001b[38;5;28mself\u001b[39m, cmd: \u001b[38;5;28mstr\u001b[39m, cmd_args: \u001b[38;5;28mdict\u001b[39m):\n\u001b[0;32m    124\u001b[0m \u001b[38;5;250m    \u001b[39m\u001b[38;5;124;03m\"\"\"Execute Chrome Devtools Protocol command and get returned result The\u001b[39;00m\n\u001b[0;32m    125\u001b[0m \u001b[38;5;124;03m    command and command args should follow chrome devtools protocol\u001b[39;00m\n\u001b[0;32m    126\u001b[0m \u001b[38;5;124;03m    domains/commands, refer to link\u001b[39;00m\n\u001b[1;32m   (...)\u001b[0m\n\u001b[0;32m    139\u001b[0m \u001b[38;5;124;03m        {'base64Encoded': False, 'body': 'response body string'}\u001b[39;00m\n\u001b[0;32m    140\u001b[0m \u001b[38;5;124;03m    \"\"\"\u001b[39;00m\n\u001b[1;32m--> 141\u001b[0m     \u001b[38;5;28;01mreturn\u001b[39;00m \u001b[38;5;28mself\u001b[39m\u001b[38;5;241m.\u001b[39mexecute(\u001b[38;5;124m\"\u001b[39m\u001b[38;5;124mexecuteCdpCommand\u001b[39m\u001b[38;5;124m\"\u001b[39m, {\u001b[38;5;124m\"\u001b[39m\u001b[38;5;124mcmd\u001b[39m\u001b[38;5;124m\"\u001b[39m: cmd, \u001b[38;5;124m\"\u001b[39m\u001b[38;5;124mparams\u001b[39m\u001b[38;5;124m\"\u001b[39m: cmd_args})[\u001b[38;5;124m\"\u001b[39m\u001b[38;5;124mvalue\u001b[39m\u001b[38;5;124m\"\u001b[39m]\n",
      "File \u001b[1;32m~\\.conda\\envs\\footstats\\Lib\\site-packages\\selenium\\webdriver\\remote\\webdriver.py:347\u001b[0m, in \u001b[0;36mWebDriver.execute\u001b[1;34m(self, driver_command, params)\u001b[0m\n\u001b[0;32m    345\u001b[0m response \u001b[38;5;241m=\u001b[39m \u001b[38;5;28mself\u001b[39m\u001b[38;5;241m.\u001b[39mcommand_executor\u001b[38;5;241m.\u001b[39mexecute(driver_command, params)\n\u001b[0;32m    346\u001b[0m \u001b[38;5;28;01mif\u001b[39;00m response:\n\u001b[1;32m--> 347\u001b[0m     \u001b[38;5;28mself\u001b[39m\u001b[38;5;241m.\u001b[39merror_handler\u001b[38;5;241m.\u001b[39mcheck_response(response)\n\u001b[0;32m    348\u001b[0m     response[\u001b[38;5;124m\"\u001b[39m\u001b[38;5;124mvalue\u001b[39m\u001b[38;5;124m\"\u001b[39m] \u001b[38;5;241m=\u001b[39m \u001b[38;5;28mself\u001b[39m\u001b[38;5;241m.\u001b[39m_unwrap_value(response\u001b[38;5;241m.\u001b[39mget(\u001b[38;5;124m\"\u001b[39m\u001b[38;5;124mvalue\u001b[39m\u001b[38;5;124m\"\u001b[39m, \u001b[38;5;28;01mNone\u001b[39;00m))\n\u001b[0;32m    349\u001b[0m     \u001b[38;5;28;01mreturn\u001b[39;00m response\n",
      "File \u001b[1;32m~\\.conda\\envs\\footstats\\Lib\\site-packages\\selenium\\webdriver\\remote\\errorhandler.py:229\u001b[0m, in \u001b[0;36mErrorHandler.check_response\u001b[1;34m(self, response)\u001b[0m\n\u001b[0;32m    227\u001b[0m         alert_text \u001b[38;5;241m=\u001b[39m value[\u001b[38;5;124m\"\u001b[39m\u001b[38;5;124malert\u001b[39m\u001b[38;5;124m\"\u001b[39m]\u001b[38;5;241m.\u001b[39mget(\u001b[38;5;124m\"\u001b[39m\u001b[38;5;124mtext\u001b[39m\u001b[38;5;124m\"\u001b[39m)\n\u001b[0;32m    228\u001b[0m     \u001b[38;5;28;01mraise\u001b[39;00m exception_class(message, screen, stacktrace, alert_text)  \u001b[38;5;66;03m# type: ignore[call-arg]  # mypy is not smart enough here\u001b[39;00m\n\u001b[1;32m--> 229\u001b[0m \u001b[38;5;28;01mraise\u001b[39;00m exception_class(message, screen, stacktrace)\n",
      "\u001b[1;31mWebDriverException\u001b[0m: Message: unknown error: unhandled inspector error: {\"code\":-32000,\"message\":\"No data found for resource with given identifier\"}\n  (Session info: chrome=125.0.6422.77)\nStacktrace:\n\tGetHandleVerifier [0x0076B793+45827]\n\t(No symbol) [0x006FDB74]\n\t(No symbol) [0x005F150F]\n\t(No symbol) [0x005DC93D]\n\t(No symbol) [0x005DB5C3]\n\t(No symbol) [0x005DBD1D]\n\t(No symbol) [0x005DBCB8]\n\t(No symbol) [0x005F4244]\n\t(No symbol) [0x006769B1]\n\t(No symbol) [0x00652DFC]\n\t(No symbol) [0x0066C034]\n\t(No symbol) [0x00652B96]\n\t(No symbol) [0x00626998]\n\t(No symbol) [0x0062751D]\n\tGetHandleVerifier [0x00A243C3+2899763]\n\tGetHandleVerifier [0x00A777ED+3240797]\n\tGetHandleVerifier [0x007F1264+593364]\n\tGetHandleVerifier [0x007F818C+621820]\n\t(No symbol) [0x00706F54]\n\t(No symbol) [0x00703658]\n\t(No symbol) [0x007037F7]\n\t(No symbol) [0x006F58AE]\n\tBaseThreadInitThunk [0x75C67BA9+25]\n\tRtlInitializeExceptionChain [0x77E6BE3B+107]\n\tRtlClearBits [0x77E6BDBF+191]\n"
     ]
    }
   ],
   "source": [
    "driver.execute_cdp_cmd('Network.getResponseBody', { 'requestId': x['params']['requestId'] })"
   ]
  },
  {
   "cell_type": "code",
   "execution_count": null,
   "metadata": {},
   "outputs": [],
   "source": []
  }
 ],
 "metadata": {
  "kernelspec": {
   "display_name": "Python 3 (ipykernel)",
   "language": "python",
   "name": "python3"
  },
  "language_info": {
   "codemirror_mode": {
    "name": "ipython",
    "version": 3
   },
   "file_extension": ".py",
   "mimetype": "text/x-python",
   "name": "python",
   "nbconvert_exporter": "python",
   "pygments_lexer": "ipython3",
   "version": "3.10.12"
  }
 },
 "nbformat": 4,
 "nbformat_minor": 4
}
