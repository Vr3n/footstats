{
 "cells": [
  {
   "cell_type": "markdown",
   "id": "54b9c3ae-66f4-492b-8a72-10326e567035",
   "metadata": {},
   "source": [
    "## Gettings tournament details from the Sitemap xml"
   ]
  },
  {
   "cell_type": "code",
   "execution_count": 11,
   "id": "7ef9215f-318c-406a-9ea0-5faa8824281c",
   "metadata": {},
   "outputs": [],
   "source": [
    "from bs4 import BeautifulSoup\n",
    "from typing import List, Dict\n",
    "import asyncio\n",
    "import httpx"
   ]
  },
  {
   "cell_type": "code",
   "execution_count": 2,
   "id": "6dfe1051-a26f-441e-88a9-4c1236fb9e3c",
   "metadata": {},
   "outputs": [],
   "source": [
    "data = None\n",
    "with open(\"../files/hi_sitemap_tournaments_football.xml\", 'r') as file:\n",
    "    data = file.read()"
   ]
  },
  {
   "cell_type": "code",
   "execution_count": 3,
   "id": "d9fc563a-7689-435d-be29-d63eccf05ec4",
   "metadata": {},
   "outputs": [
    {
     "name": "stderr",
     "output_type": "stream",
     "text": [
      "C:\\Users\\DELL 5590\\AppData\\Local\\Programs\\Python\\Python311\\Lib\\html\\parser.py:170: XMLParsedAsHTMLWarning: It looks like you're parsing an XML document using an HTML parser. If this really is an HTML document (maybe it's XHTML?), you can ignore or filter this warning. If it's XML, you should know that using an XML parser will be more reliable. To parse this document as XML, make sure you have the lxml package installed, and pass the keyword argument `features=\"xml\"` into the BeautifulSoup constructor.\n",
      "  k = self.parse_starttag(i)\n"
     ]
    }
   ],
   "source": [
    "if data != None:\n",
    "    soup = BeautifulSoup(data)"
   ]
  },
  {
   "cell_type": "code",
   "execution_count": 4,
   "id": "ee596c23-56c9-4ae8-947a-e221a1eb9f46",
   "metadata": {
    "scrolled": true
   },
   "outputs": [],
   "source": [
    "tournament_hrefs =  [x['href'] for x in soup.findAll('xhtml:link', { 'hreflang': 'en' })]"
   ]
  },
  {
   "cell_type": "code",
   "execution_count": 5,
   "id": "d29822a0-d70f-4e28-89c0-55ff19f19155",
   "metadata": {
    "scrolled": true
   },
   "outputs": [],
   "source": [
    "tournament_ids = [{ 'sofascore_id': x.split('/')[-1], 'league_name': ' '.join(x.split('/')[-2].split('-')).capitalize(), 'country': x.split('/')[-3] } for x in tournament_hrefs]"
   ]
  },
  {
   "cell_type": "code",
   "execution_count": 6,
   "id": "7d8a7091-4e98-4285-86b2-cd6fbb7e0570",
   "metadata": {
    "scrolled": true
   },
   "outputs": [],
   "source": [
    "target_countries = ['england', 'france', 'netherlands', 'germany', 'spain', 'portugal']"
   ]
  },
  {
   "cell_type": "code",
   "execution_count": 7,
   "id": "7e8b363a-2687-46c7-b8ea-ca64b66cfe0d",
   "metadata": {
    "scrolled": true
   },
   "outputs": [],
   "source": [
    "top_european_tournaments =[entry for entry in tournament_ids if entry['country'] in target_countries]"
   ]
  },
  {
   "cell_type": "code",
   "execution_count": 8,
   "id": "258eac99-c594-4e8f-b905-fcb4cf96c4d2",
   "metadata": {
    "scrolled": true
   },
   "outputs": [
    {
     "data": {
      "text/plain": [
       "[{'sofascore_id': '239',\n",
       "  'league_name': 'Liga portugal 2',\n",
       "  'country': 'portugal'},\n",
       " {'sofascore_id': '336',\n",
       "  'league_name': 'Taca de portugal',\n",
       "  'country': 'portugal'},\n",
       " {'sofascore_id': '346',\n",
       "  'league_name': 'Community shield',\n",
       "  'country': 'england'},\n",
       " {'sofascore_id': '34', 'league_name': 'Ligue 1', 'country': 'france'},\n",
       " {'sofascore_id': '339',\n",
       "  'league_name': 'Trophee des champions',\n",
       "  'country': 'france'},\n",
       " {'sofascore_id': '327', 'league_name': 'Taca da liga', 'country': 'portugal'},\n",
       " {'sofascore_id': '17', 'league_name': 'Premier league', 'country': 'england'},\n",
       " {'sofascore_id': '44', 'league_name': '2 bundesliga', 'country': 'germany'},\n",
       " {'sofascore_id': '173',\n",
       "  'league_name': 'National league',\n",
       "  'country': 'england'},\n",
       " {'sofascore_id': '1044',\n",
       "  'league_name': 'The fa womens super league',\n",
       "  'country': 'england'},\n",
       " {'sofascore_id': '329', 'league_name': 'Copa del rey', 'country': 'spain'},\n",
       " {'sofascore_id': '11126',\n",
       "  'league_name': 'Copa de sm la reina',\n",
       "  'country': 'spain'},\n",
       " {'sofascore_id': '849',\n",
       "  'league_name': 'Reservecompetitie',\n",
       "  'country': 'netherlands'},\n",
       " {'sofascore_id': '217', 'league_name': 'Dfb pokal', 'country': 'germany'},\n",
       " {'sofascore_id': '35', 'league_name': 'Bundesliga', 'country': 'germany'},\n",
       " {'sofascore_id': '17143',\n",
       "  'league_name': 'U21 knvb divisie 1',\n",
       "  'country': 'netherlands'},\n",
       " {'sofascore_id': '1696',\n",
       "  'league_name': 'Fa cup qualification',\n",
       "  'country': 'england'},\n",
       " {'sofascore_id': '238',\n",
       "  'league_name': 'Liga portugal betclic',\n",
       "  'country': 'portugal'},\n",
       " {'sofascore_id': '491', 'league_name': '3 liga', 'country': 'germany'},\n",
       " {'sofascore_id': '11401',\n",
       "  'league_name': 'Championnat national u19',\n",
       "  'country': 'france'},\n",
       " {'sofascore_id': '11618',\n",
       "  'league_name': 'Copa federacion',\n",
       "  'country': 'spain'},\n",
       " {'sofascore_id': '10527',\n",
       "  'league_name': 'Campeonato nacional feminino',\n",
       "  'country': 'portugal'},\n",
       " {'sofascore_id': '330',\n",
       "  'league_name': 'Knvb beker',\n",
       "  'country': 'netherlands'},\n",
       " {'sofascore_id': '213',\n",
       "  'league_name': 'Supercopa de espana',\n",
       "  'country': 'spain'},\n",
       " {'sofascore_id': '1139',\n",
       "  'league_name': 'Division 1 feminines',\n",
       "  'country': 'france'},\n",
       " {'sofascore_id': '10093',\n",
       "  'league_name': 'Campeonato de portugal',\n",
       "  'country': 'portugal'},\n",
       " {'sofascore_id': '686',\n",
       "  'league_name': 'Dfb pokal women',\n",
       "  'country': 'germany'},\n",
       " {'sofascore_id': '131',\n",
       "  'league_name': 'Eerste divisie',\n",
       "  'country': 'netherlands'},\n",
       " {'sofascore_id': '21', 'league_name': 'Efl cup', 'country': 'england'},\n",
       " {'sofascore_id': '19', 'league_name': 'Fa cup', 'country': 'england'},\n",
       " {'sofascore_id': '54', 'league_name': 'Laliga 2', 'country': 'spain'},\n",
       " {'sofascore_id': '182', 'league_name': 'Ligue 2', 'country': 'france'},\n",
       " {'sofascore_id': '799', 'league_name': 'Super cup', 'country': 'germany'},\n",
       " {'sofascore_id': '2288',\n",
       "  'league_name': '2 frauen bundesliga',\n",
       "  'country': 'germany'},\n",
       " {'sofascore_id': '544',\n",
       "  'league_name': 'Segunda federacion',\n",
       "  'country': 'spain'},\n",
       " {'sofascore_id': '11667',\n",
       "  'league_name': 'Fa womens league cup',\n",
       "  'country': 'england'},\n",
       " {'sofascore_id': '1127', 'league_name': 'Liga f', 'country': 'spain'},\n",
       " {'sofascore_id': '10553',\n",
       "  'league_name': 'Fa womens championship',\n",
       "  'country': 'england'},\n",
       " {'sofascore_id': '17073',\n",
       "  'league_name': 'Primera federacion',\n",
       "  'country': 'spain'},\n",
       " {'sofascore_id': '334',\n",
       "  'league_name': 'Football league trophy',\n",
       "  'country': 'england'},\n",
       " {'sofascore_id': '1133',\n",
       "  'league_name': 'U19 championship',\n",
       "  'country': 'portugal'},\n",
       " {'sofascore_id': '24', 'league_name': 'League one', 'country': 'england'},\n",
       " {'sofascore_id': '14687',\n",
       "  'league_name': 'Supercopa femenina',\n",
       "  'country': 'spain'},\n",
       " {'sofascore_id': '17101', 'league_name': 'Liga 3', 'country': 'portugal'},\n",
       " {'sofascore_id': '13330',\n",
       "  'league_name': 'Coupe de france women',\n",
       "  'country': 'france'},\n",
       " {'sofascore_id': '37', 'league_name': 'Eredivisie', 'country': 'netherlands'},\n",
       " {'sofascore_id': '11341',\n",
       "  'league_name': 'U23 liga revelacao',\n",
       "  'country': 'portugal'},\n",
       " {'sofascore_id': '22480',\n",
       "  'league_name': 'Eredivisie cup',\n",
       "  'country': 'netherlands'},\n",
       " {'sofascore_id': '11402',\n",
       "  'league_name': 'Tweede divisie',\n",
       "  'country': 'netherlands'},\n",
       " {'sofascore_id': '2123',\n",
       "  'league_name': 'Vrouwen eredivisie',\n",
       "  'country': 'netherlands'},\n",
       " {'sofascore_id': '11666',\n",
       "  'league_name': 'Fa cup women',\n",
       "  'country': 'england'},\n",
       " {'sofascore_id': '13543',\n",
       "  'league_name': 'U23 taca revelacao',\n",
       "  'country': 'portugal'},\n",
       " {'sofascore_id': '345', 'league_name': 'Supertaca', 'country': 'portugal'},\n",
       " {'sofascore_id': '18789',\n",
       "  'league_name': 'Knvb beker women',\n",
       "  'country': 'netherlands'},\n",
       " {'sofascore_id': '340',\n",
       "  'league_name': 'Johan cruijff schaal',\n",
       "  'country': 'netherlands'},\n",
       " {'sofascore_id': '25', 'league_name': 'League two', 'country': 'england'},\n",
       " {'sofascore_id': '335',\n",
       "  'league_name': 'Coupe de france',\n",
       "  'country': 'france'},\n",
       " {'sofascore_id': '20833',\n",
       "  'league_name': 'Supercup women',\n",
       "  'country': 'netherlands'},\n",
       " {'sofascore_id': '18', 'league_name': 'Championship', 'country': 'england'},\n",
       " {'sofascore_id': '8', 'league_name': 'Laliga', 'country': 'spain'},\n",
       " {'sofascore_id': '333',\n",
       "  'league_name': 'Coupe de la ligue',\n",
       "  'country': 'france'},\n",
       " {'sofascore_id': '232',\n",
       "  'league_name': 'Frauen bundesliga',\n",
       "  'country': 'germany'},\n",
       " {'sofascore_id': '889', 'league_name': 'Telekom cup', 'country': 'germany'},\n",
       " {'sofascore_id': '183', 'league_name': 'National 1', 'country': 'france'}]"
      ]
     },
     "execution_count": 8,
     "metadata": {},
     "output_type": "execute_result"
    }
   ],
   "source": [
    "top_european_tournaments"
   ]
  },
  {
   "cell_type": "code",
   "execution_count": null,
   "id": "00e698ff-17ff-45de-95ef-c82707150ca6",
   "metadata": {},
   "outputs": [],
   "source": [
    "async def fetch_all_tournaments(tournament_list: List[Dict]) -> :\n",
    "    async with httpx.AsyncClient(base_url=\"/api/v1/scrape/tournaments/\")"
   ]
  }
 ],
 "metadata": {
  "kernelspec": {
   "display_name": "Python 3 (ipykernel)",
   "language": "python",
   "name": "python3"
  },
  "language_info": {
   "codemirror_mode": {
    "name": "ipython",
    "version": 3
   },
   "file_extension": ".py",
   "mimetype": "text/x-python",
   "name": "python",
   "nbconvert_exporter": "python",
   "pygments_lexer": "ipython3",
   "version": "3.11.8"
  }
 },
 "nbformat": 4,
 "nbformat_minor": 5
}
