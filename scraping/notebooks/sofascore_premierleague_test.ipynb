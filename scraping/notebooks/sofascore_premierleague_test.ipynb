{
 "cells": [
  {
   "cell_type": "markdown",
   "id": "165069b7-3283-466d-8f34-eceb66749f60",
   "metadata": {},
   "source": [
    "# Sofascore Premier League"
   ]
  },
  {
   "cell_type": "code",
   "execution_count": 1,
   "id": "07da3f33-eb2c-4587-a69b-58ba65e1cbee",
   "metadata": {},
   "outputs": [],
   "source": [
    "import requests\n",
    "import json\n",
    "import random\n",
    "import typing\n",
    "\n",
    "from datetime import datetime"
   ]
  },
  {
   "cell_type": "code",
   "execution_count": 2,
   "id": "37eec61e-fbfe-47c0-95ac-eabb814fa9e1",
   "metadata": {},
   "outputs": [],
   "source": [
    "def make_request(url: str):\n",
    "    user_agent_list = [ \n",
    "\t'Mozilla/5.0 (Windows NT 10.0; Win64; x64) AppleWebKit/537.36 (KHTML, like Gecko) Chrome/109.0.0.0 Safari/537.36', \n",
    "\t'Mozilla/5.0 (Macintosh; Intel Mac OS X 10_15_7) AppleWebKit/537.36 (KHTML, like Gecko) Chrome/108.0.0.0 Safari/537.36', \n",
    "\t'Mozilla/5.0 (Macintosh; Intel Mac OS X 13_1) AppleWebKit/605.1.15 (KHTML, like Gecko) Version/16.1 Safari/605.1.15', \n",
    "    ]\n",
    "    user_agent = None\n",
    "    \n",
    "    for i in range(1, 4):\n",
    "        user_agent = random.choice(user_agent_list)\n",
    "    \n",
    "    headers = {\n",
    "        'User-Agent': user_agent\n",
    "    }\n",
    "\n",
    "    return requests.get(url, headers=headers)"
   ]
  },
  {
   "cell_type": "markdown",
   "id": "13c0ae7c-5622-4b3f-be06-8f448a60d9bb",
   "metadata": {},
   "source": [
    "## Links and Its Descriptions"
   ]
  },
  {
   "cell_type": "code",
   "execution_count": 3,
   "id": "609d3a89-b618-407b-b8b1-a1e54df97acc",
   "metadata": {},
   "outputs": [],
   "source": [
    "links = {\n",
    "    'tournament': 'https://www.sofascore.com/api/v1/unique-tournament/17',\n",
    "    'tournament_seasons': 'https://www.sofascore.com/api/v1/unique-tournament/17/seasons',\n",
    "    'tournament_events': 'https://www.sofascore.com/api/v1/unique-tournament/17/season/52186/team-events/total'\n",
    "}"
   ]
  },
  {
   "cell_type": "markdown",
   "id": "6b5b8d50-c86c-4bba-90ea-ecd528fbbed0",
   "metadata": {},
   "source": [
    "## Extracting Tournament Details."
   ]
  },
  {
   "cell_type": "code",
   "execution_count": 4,
   "id": "833d9624-5225-4a08-9cfc-9253382e44e0",
   "metadata": {},
   "outputs": [],
   "source": [
    "req = make_request(links['tournament'])"
   ]
  },
  {
   "cell_type": "code",
   "execution_count": 5,
   "id": "5d6f3f9f-69ce-49cc-b030-0307fe122ae4",
   "metadata": {},
   "outputs": [],
   "source": [
    "data = req.json()['uniqueTournament']"
   ]
  },
  {
   "cell_type": "code",
   "execution_count": 6,
   "id": "409d7b17-ae19-4ace-8a43-435e255c3ed9",
   "metadata": {},
   "outputs": [
    {
     "data": {
      "text/plain": [
       "{'name': 'Premier League',\n",
       " 'slug': 'premier-league',\n",
       " 'primaryColorHex': '#3c1c5a',\n",
       " 'secondaryColorHex': '#f80158',\n",
       " 'logo': {'md5': '36861710766b10701e2126a2d33021c4', 'id': 1418035},\n",
       " 'darkLogo': {'md5': 'cac4c64c7f9e0878f33117bb29f7021a', 'id': 1418033},\n",
       " 'category': {'name': 'England',\n",
       "  'slug': 'england',\n",
       "  'sport': {'name': 'Football', 'slug': 'football', 'id': 1},\n",
       "  'id': 1,\n",
       "  'country': {'alpha2': 'EN', 'name': 'England'},\n",
       "  'flag': 'england',\n",
       "  'alpha2': 'EN'},\n",
       " 'userCount': 1724565,\n",
       " 'tier': 1,\n",
       " 'titleHolder': {'name': 'Manchester City',\n",
       "  'slug': 'manchester-city',\n",
       "  'shortName': 'Man City',\n",
       "  'gender': 'M',\n",
       "  'sport': {'name': 'Football', 'slug': 'football', 'id': 1},\n",
       "  'userCount': 2303852,\n",
       "  'nameCode': 'MCI',\n",
       "  'disabled': False,\n",
       "  'national': False,\n",
       "  'type': 0,\n",
       "  'id': 17,\n",
       "  'country': {'alpha2': 'EN', 'name': 'England'},\n",
       "  'teamColors': {'primary': '#66ccff',\n",
       "   'secondary': '#ffffff',\n",
       "   'text': '#ffffff'},\n",
       "  'fieldTranslations': {'nameTranslation': {'ar': 'مانشستر سيتي',\n",
       "    'ru': 'Манчестер Сити'},\n",
       "   'shortNameTranslation': {}}},\n",
       " 'titleHolderTitles': 10,\n",
       " 'mostTitles': 20,\n",
       " 'mostTitlesTeams': [{'name': 'Manchester United',\n",
       "   'slug': 'manchester-united',\n",
       "   'shortName': 'Man Utd',\n",
       "   'gender': 'M',\n",
       "   'sport': {'name': 'Football', 'slug': 'football', 'id': 1},\n",
       "   'userCount': 2011039,\n",
       "   'nameCode': 'MUN',\n",
       "   'disabled': False,\n",
       "   'national': False,\n",
       "   'type': 0,\n",
       "   'id': 35,\n",
       "   'country': {'alpha2': 'EN', 'name': 'England'},\n",
       "   'teamColors': {'primary': '#ff0000',\n",
       "    'secondary': '#373737',\n",
       "    'text': '#373737'},\n",
       "   'fieldTranslations': {'nameTranslation': {'ar': 'مانتشستر يونايتد',\n",
       "     'ru': 'Манчестер Юнайтед'},\n",
       "    'shortNameTranslation': {}}}],\n",
       " 'linkedUniqueTournaments': [],\n",
       " 'hasStandingsGroups': False,\n",
       " 'hasRounds': True,\n",
       " 'hasGroups': False,\n",
       " 'hasPlayoffSeries': False,\n",
       " 'upperDivisions': [],\n",
       " 'lowerDivisions': [{'name': 'Championship',\n",
       "   'slug': 'championship',\n",
       "   'primaryColorHex': '#20429a',\n",
       "   'secondaryColorHex': '#ac944a',\n",
       "   'logo': {'md5': '29a945d83732f069f92fb0986738b57f', 'id': 294000},\n",
       "   'category': {'name': 'England',\n",
       "    'slug': 'england',\n",
       "    'sport': {'name': 'Football', 'slug': 'football', 'id': 1},\n",
       "    'id': 1,\n",
       "    'country': {'alpha2': 'EN', 'name': 'England'},\n",
       "    'flag': 'england',\n",
       "    'alpha2': 'EN'},\n",
       "   'tier': 2,\n",
       "   'hasRounds': True,\n",
       "   'hasGroups': False,\n",
       "   'hasPlayoffSeries': False,\n",
       "   'crowdsourcingEnabled': False,\n",
       "   'hasPerformanceGraphFeature': True,\n",
       "   'periodLength': {},\n",
       "   'id': 18,\n",
       "   'country': {},\n",
       "   'startDateTimestamp': 1691107200,\n",
       "   'endDateTimestamp': 1716681600,\n",
       "   'disabledHomeAwayStandings': False,\n",
       "   'displayInverseHomeAwayTeams': False}],\n",
       " 'crowdsourcingEnabled': False,\n",
       " 'hasPerformanceGraphFeature': True,\n",
       " 'periodLength': {},\n",
       " 'id': 17,\n",
       " 'country': {},\n",
       " 'startDateTimestamp': 1691712000,\n",
       " 'endDateTimestamp': 1716076800,\n",
       " 'disabledHomeAwayStandings': False,\n",
       " 'displayInverseHomeAwayTeams': False}"
      ]
     },
     "execution_count": 6,
     "metadata": {},
     "output_type": "execute_result"
    }
   ],
   "source": [
    "data"
   ]
  },
  {
   "cell_type": "code",
   "execution_count": 7,
   "id": "4b4b5cd0-ffde-4c18-8119-06602ebccd18",
   "metadata": {},
   "outputs": [],
   "source": [
    "tournament_data = {\n",
    "    'name': data['name'],\n",
    "    'slug': data['slug'],\n",
    "    'sofascore_id': data['id'],\n",
    "    'category': data['category']['name'],\n",
    "    'category_slug': data['category']['slug'],\n",
    "    'category_sofascore_id': data['category']['id'],\n",
    "    'hasStandingGroups': data['hasStandingsGroups'],\n",
    "    'hasGroups': data['hasGroups'],\n",
    "    'hasPlayoffSeries': data['hasPlayoffSeries'],\n",
    "    'tournament_start_timestamp': datetime.fromtimestamp(data['startDateTimestamp']),\n",
    "    'tournament_end_timestamp': datetime.fromtimestamp(data['endDateTimestamp']),\n",
    "}"
   ]
  },
  {
   "cell_type": "code",
   "execution_count": 8,
   "id": "230a766a-374c-4629-9672-5aec13d8ff0c",
   "metadata": {},
   "outputs": [
    {
     "data": {
      "text/plain": [
       "{'name': 'Premier League',\n",
       " 'slug': 'premier-league',\n",
       " 'sofascore_id': 17,\n",
       " 'category': 'England',\n",
       " 'category_slug': 'england',\n",
       " 'category_sofascore_id': 1,\n",
       " 'hasStandingGroups': False,\n",
       " 'hasGroups': False,\n",
       " 'hasPlayoffSeries': False,\n",
       " 'tournament_start_timestamp': datetime.datetime(2023, 8, 11, 5, 30),\n",
       " 'tournament_end_timestamp': datetime.datetime(2024, 5, 19, 5, 30)}"
      ]
     },
     "execution_count": 8,
     "metadata": {},
     "output_type": "execute_result"
    }
   ],
   "source": [
    "tournament_data"
   ]
  },
  {
   "cell_type": "markdown",
   "id": "dd9b2a31-ea8f-4993-bd3e-5a42c0ed7ad5",
   "metadata": {},
   "source": [
    "## Getting the Tournament Seasons."
   ]
  },
  {
   "cell_type": "code",
   "execution_count": 9,
   "id": "2b008dcd-d712-4021-8fca-b2c6395a625b",
   "metadata": {},
   "outputs": [],
   "source": [
    "req = make_request(links['tournament_seasons'])"
   ]
  },
  {
   "cell_type": "code",
   "execution_count": 10,
   "id": "fbde2c9a-e874-45a1-a6e2-0956b549d882",
   "metadata": {},
   "outputs": [],
   "source": [
    "seasons_data = req.json()['seasons']"
   ]
  },
  {
   "cell_type": "code",
   "execution_count": 11,
   "id": "449326f8-fbf4-4bf2-b1b5-a69bba371426",
   "metadata": {},
   "outputs": [],
   "source": [
    "tournament_seasons = list()\n",
    "for season in seasons_data:\n",
    "    tmp_data = dict()\n",
    "    tmp_data['name'] = season['name']\n",
    "    tmp_data['year'] = season['year']\n",
    "    tmp_data['sofascore_id'] = season['id']\n",
    "    tournament_seasons.append(tmp_data)"
   ]
  },
  {
   "cell_type": "code",
   "execution_count": 12,
   "id": "10e7941d-a596-4345-8585-3aec9ed11b6e",
   "metadata": {},
   "outputs": [
    {
     "data": {
      "text/plain": [
       "[{'name': 'Premier League 23/24', 'year': '23/24', 'sofascore_id': 52186},\n",
       " {'name': 'Premier League 22/23', 'year': '22/23', 'sofascore_id': 41886},\n",
       " {'name': 'Premier League 21/22', 'year': '21/22', 'sofascore_id': 37036},\n",
       " {'name': 'Premier League 20/21', 'year': '20/21', 'sofascore_id': 29415},\n",
       " {'name': 'Premier League 19/20', 'year': '19/20', 'sofascore_id': 23776},\n",
       " {'name': 'Premier League 18/19', 'year': '18/19', 'sofascore_id': 17359},\n",
       " {'name': 'Premier League 17/18', 'year': '17/18', 'sofascore_id': 13380},\n",
       " {'name': 'Premier League 16/17', 'year': '16/17', 'sofascore_id': 11733},\n",
       " {'name': 'Premier League 15/16', 'year': '15/16', 'sofascore_id': 10356},\n",
       " {'name': 'Premier League 14/15', 'year': '14/15', 'sofascore_id': 8186},\n",
       " {'name': 'Premier League 13/14', 'year': '13/14', 'sofascore_id': 6311},\n",
       " {'name': 'Premier League 12/13', 'year': '12/13', 'sofascore_id': 4710},\n",
       " {'name': 'Premier League 11/12', 'year': '11/12', 'sofascore_id': 3391},\n",
       " {'name': 'Premier League 10/11', 'year': '10/11', 'sofascore_id': 2746},\n",
       " {'name': 'Premier League 09/10', 'year': '09/10', 'sofascore_id': 2139},\n",
       " {'name': 'Premier League 08/09', 'year': '08/09', 'sofascore_id': 1544},\n",
       " {'name': 'Premier League 07/08', 'year': '07/08', 'sofascore_id': 581},\n",
       " {'name': 'Premier League 06/07', 'year': '06/07', 'sofascore_id': 4},\n",
       " {'name': 'Premier League 05/06', 'year': '05/06', 'sofascore_id': 3},\n",
       " {'name': 'Premier League 04/05', 'year': '04/05', 'sofascore_id': 2},\n",
       " {'name': 'Premier League 03/04', 'year': '03/04', 'sofascore_id': 1},\n",
       " {'name': 'Premier League 02/03', 'year': '02/03', 'sofascore_id': 46},\n",
       " {'name': 'Premier League 01/02', 'year': '01/02', 'sofascore_id': 47},\n",
       " {'name': 'Premier League 00/01', 'year': '00/01', 'sofascore_id': 48},\n",
       " {'name': 'Premier League 99/00', 'year': '99/00', 'sofascore_id': 49},\n",
       " {'name': 'Premier League 98/99', 'year': '98/99', 'sofascore_id': 50},\n",
       " {'name': 'Premier League 97/98', 'year': '97/98', 'sofascore_id': 51},\n",
       " {'name': 'Premier League 96/97', 'year': '96/97', 'sofascore_id': 25682},\n",
       " {'name': 'Premier League 95/96', 'year': '95/96', 'sofascore_id': 25681},\n",
       " {'name': 'Premier League 94/95', 'year': '94/95', 'sofascore_id': 29167},\n",
       " {'name': 'Premier League 93/94', 'year': '93/94', 'sofascore_id': 25680}]"
      ]
     },
     "execution_count": 12,
     "metadata": {},
     "output_type": "execute_result"
    }
   ],
   "source": [
    "tournament_seasons"
   ]
  },
  {
   "cell_type": "markdown",
   "id": "3a5acd61-d9af-4986-8c09-26005fa0c6fe",
   "metadata": {},
   "source": [
    "## Getting the Tournament Seasons."
   ]
  },
  {
   "cell_type": "code",
   "execution_count": 17,
   "id": "d7647a51-af62-46a7-8c60-d2d355ce39fa",
   "metadata": {},
   "outputs": [],
   "source": [
    "req = make_request(links['tournament_events'])"
   ]
  },
  {
   "cell_type": "code",
   "execution_count": 74,
   "id": "c39dd255-4997-4e24-92f6-91a8e32e57b7",
   "metadata": {
    "scrolled": true
   },
   "outputs": [],
   "source": [
    "data = list(req.json()['tournamentTeamEvents'][\"1\"].values())"
   ]
  },
  {
   "cell_type": "code",
   "execution_count": 100,
   "id": "bf0f56af-e739-481b-9a3c-e76b8335256b",
   "metadata": {
    "scrolled": true
   },
   "outputs": [],
   "source": [
    "match_data = [match for matchweek in data for match in matchweek]"
   ]
  },
  {
   "cell_type": "code",
   "execution_count": 107,
   "id": "6325a312-06f9-4804-ae8b-ae23545e38b5",
   "metadata": {},
   "outputs": [
    {
     "data": {
      "text/plain": [
       "{'tournament': {'name': 'Premier League',\n",
       "  'slug': 'premier-league',\n",
       "  'category': {'name': 'England',\n",
       "   'slug': 'england',\n",
       "   'sport': {'name': 'Football', 'slug': 'football', 'id': 1},\n",
       "   'id': 1,\n",
       "   'flag': 'england',\n",
       "   'alpha2': 'EN'},\n",
       "  'uniqueTournament': {'name': 'Premier League',\n",
       "   'slug': 'premier-league',\n",
       "   'primaryColorHex': '#3c1c5a',\n",
       "   'secondaryColorHex': '#f80158',\n",
       "   'category': {'name': 'England',\n",
       "    'slug': 'england',\n",
       "    'sport': {'name': 'Football', 'slug': 'football', 'id': 1},\n",
       "    'id': 1,\n",
       "    'flag': 'england',\n",
       "    'alpha2': 'EN'},\n",
       "   'userCount': 1724565,\n",
       "   'id': 17,\n",
       "   'displayInverseHomeAwayTeams': False},\n",
       "  'priority': 600,\n",
       "  'isLive': False,\n",
       "  'id': 1},\n",
       " 'customId': 'hP',\n",
       " 'status': {'code': 100, 'description': 'Ended', 'type': 'finished'},\n",
       " 'winnerCode': 1,\n",
       " 'homeTeam': {'name': 'Crystal Palace',\n",
       "  'slug': 'crystal-palace',\n",
       "  'shortName': 'Crystal Palace',\n",
       "  'gender': 'M',\n",
       "  'sport': {'name': 'Football', 'slug': 'football', 'id': 1},\n",
       "  'userCount': 266267,\n",
       "  'nameCode': 'CRY',\n",
       "  'disabled': False,\n",
       "  'national': False,\n",
       "  'type': 0,\n",
       "  'id': 7,\n",
       "  'teamColors': {'primary': '#0033ff',\n",
       "   'secondary': '#b90d2b',\n",
       "   'text': '#b90d2b'},\n",
       "  'fieldTranslations': {'nameTranslation': {'ar': 'كريستال بالاس',\n",
       "    'ru': 'Кристал Пэлас'},\n",
       "   'shortNameTranslation': {}},\n",
       "  'createdByEditor': False},\n",
       " 'awayTeam': {'name': 'Aston Villa',\n",
       "  'slug': 'aston-villa',\n",
       "  'shortName': 'Aston Villa',\n",
       "  'gender': 'M',\n",
       "  'sport': {'name': 'Football', 'slug': 'football', 'id': 1},\n",
       "  'userCount': 541845,\n",
       "  'nameCode': 'AVL',\n",
       "  'disabled': False,\n",
       "  'national': False,\n",
       "  'type': 0,\n",
       "  'id': 40,\n",
       "  'teamColors': {'primary': '#670e36',\n",
       "   'secondary': '#94bee5',\n",
       "   'text': '#94bee5'},\n",
       "  'fieldTranslations': {'nameTranslation': {'ar': 'أستون فيلا',\n",
       "    'ru': 'Астон Вилла'},\n",
       "   'shortNameTranslation': {}},\n",
       "  'createdByEditor': False},\n",
       " 'homeScore': {'current': 5,\n",
       "  'display': 5,\n",
       "  'period1': 2,\n",
       "  'period2': 3,\n",
       "  'normaltime': 5},\n",
       " 'awayScore': {'current': 0,\n",
       "  'display': 0,\n",
       "  'period1': 0,\n",
       "  'period2': 0,\n",
       "  'normaltime': 0},\n",
       " 'hasXg': True,\n",
       " 'id': 11352562,\n",
       " 'startTimestamp': 1716130800,\n",
       " 'slug': 'aston-villa-crystal-palace',\n",
       " 'finalResultOnly': False}"
      ]
     },
     "execution_count": 107,
     "metadata": {},
     "output_type": "execute_result"
    }
   ],
   "source": [
    "match_data[0]"
   ]
  },
  {
   "cell_type": "code",
   "execution_count": 102,
   "id": "ce0c0a28-ef9e-489c-8c83-5e44a1e52b59",
   "metadata": {
    "scrolled": true
   },
   "outputs": [],
   "source": [
    "match_list = []\n",
    "for match in match_data:\n",
    "    tmp_data = {}\n",
    "    tmp_data['tournament'] = {\n",
    "        'name': match['tournament']['uniqueTournament']['name'],\n",
    "        'slug': match['tournament']['uniqueTournament']['slug'],\n",
    "        'id': match['tournament']['uniqueTournament']['id'],\n",
    "    }\n",
    "    # tmp_data['league_season'] = { \n",
    "    #     'name': match['season']['name'],\n",
    "    #     'year': match['season']['year'],\n",
    "    #     'sofascore_id': match['season']['id']\n",
    "    # }\n",
    "    tmp_data['match_sofascore_id'] = match['id']\n",
    "    tmp_data['homeTeam'] = { \n",
    "        'name': match['homeTeam']['name'],\n",
    "        'slug': match['homeTeam']['slug'],\n",
    "        'nameCode': match['homeTeam']['nameCode'],\n",
    "        'sofascore_id': match['homeTeam']['id'],\n",
    "    }\n",
    "    tmp_data['status'] = {\n",
    "        'description': match['status']['description'],\n",
    "        'type': match['status']['type']\n",
    "    }\n",
    "    tmp_data['awayTeam'] = {\n",
    "        'name': match['awayTeam']['name'],\n",
    "        'slug': match['awayTeam']['slug'],\n",
    "        'nameCode': match['awayTeam']['nameCode'],\n",
    "        'sofascore_id': match['awayTeam']['id'],\n",
    "    }\n",
    "    tmp_data['homeScore'] = {\n",
    "        'current': match['homeScore']['current'],\n",
    "        'period1': match['homeScore']['period1'],\n",
    "        'period2': match['homeScore']['period2'],\n",
    "        'normaltime': match['homeScore']['normaltime'],\n",
    "    }\n",
    "    tmp_data['awayScore'] = {\n",
    "        'current': match['awayScore']['current'],\n",
    "        'period1': match['awayScore']['period1'],\n",
    "        'period2': match['awayScore']['period2'],\n",
    "        'normaltime': match['awayScore']['normaltime'],\n",
    "    }\n",
    "    tmp_data['match_slug'] = match['slug']\n",
    "    tmp_data['startTimestamp'] = datetime.fromtimestamp(match['startTimestamp'])\n",
    "    if 'endTimestamp' in match.keys():\n",
    "        tmp_data['startTimestamp'] = datetime.fromtimestamp(match['endTimestamp'])\n",
    "    match_list.append(tmp_data)"
   ]
  },
  {
   "cell_type": "code",
   "execution_count": 108,
   "id": "31d0110a-c25a-45e7-84b4-a2d63ff61efc",
   "metadata": {},
   "outputs": [
    {
     "data": {
      "text/plain": [
       "{'tournament': {'name': 'Premier League', 'slug': 'premier-league', 'id': 17},\n",
       " 'match_sofascore_id': 11352562,\n",
       " 'homeTeam': {'name': 'Crystal Palace',\n",
       "  'slug': 'crystal-palace',\n",
       "  'nameCode': 'CRY',\n",
       "  'sofascore_id': 7},\n",
       " 'status': {'description': 'Ended', 'type': 'finished'},\n",
       " 'awayTeam': {'name': 'Aston Villa',\n",
       "  'slug': 'aston-villa',\n",
       "  'nameCode': 'AVL',\n",
       "  'sofascore_id': 40},\n",
       " 'homeScore': {'current': 5, 'period1': 2, 'period2': 3, 'normaltime': 5},\n",
       " 'awayScore': {'current': 0, 'period1': 0, 'period2': 0, 'normaltime': 0},\n",
       " 'match_slug': 'aston-villa-crystal-palace',\n",
       " 'startTimestamp': datetime.datetime(2024, 5, 19, 20, 30)}"
      ]
     },
     "execution_count": 108,
     "metadata": {},
     "output_type": "execute_result"
    }
   ],
   "source": [
    "match_list[0]"
   ]
  },
  {
   "cell_type": "code",
   "execution_count": null,
   "id": "66f522d4-024e-404b-912f-1efe5fd2545f",
   "metadata": {},
   "outputs": [],
   "source": []
  }
 ],
 "metadata": {
  "kernelspec": {
   "display_name": "Python 3 (ipykernel)",
   "language": "python",
   "name": "python3"
  },
  "language_info": {
   "codemirror_mode": {
    "name": "ipython",
    "version": 3
   },
   "file_extension": ".py",
   "mimetype": "text/x-python",
   "name": "python",
   "nbconvert_exporter": "python",
   "pygments_lexer": "ipython3",
   "version": "3.10.12"
  }
 },
 "nbformat": 4,
 "nbformat_minor": 5
}
