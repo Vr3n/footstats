{
 "cells": [
  {
   "cell_type": "markdown",
   "id": "956c0450-5cc8-4b81-9220-1f481f5fb7e5",
   "metadata": {},
   "source": [
    "# SofaScore Euros Initial Data."
   ]
  },
  {
   "cell_type": "code",
   "execution_count": 1,
   "id": "a6339ea1-2fde-4eac-8039-536d5f323bbf",
   "metadata": {},
   "outputs": [],
   "source": [
    "import requests\n",
    "import json\n",
    "import random\n",
    "import typing\n",
    "\n",
    "from datetime import datetime"
   ]
  },
  {
   "cell_type": "code",
   "execution_count": 2,
   "id": "a64167fb-ea5c-44db-8212-92be9c09720c",
   "metadata": {},
   "outputs": [],
   "source": [
    "def make_request(url: str):\n",
    "    user_agent_list = [ \n",
    "\t'Mozilla/5.0 (Windows NT 10.0; Win64; x64) AppleWebKit/537.36 (KHTML, like Gecko) Chrome/109.0.0.0 Safari/537.36', \n",
    "\t'Mozilla/5.0 (Macintosh; Intel Mac OS X 10_15_7) AppleWebKit/537.36 (KHTML, like Gecko) Chrome/108.0.0.0 Safari/537.36', \n",
    "\t'Mozilla/5.0 (Macintosh; Intel Mac OS X 13_1) AppleWebKit/605.1.15 (KHTML, like Gecko) Version/16.1 Safari/605.1.15', \n",
    "    ]\n",
    "    user_agent = None\n",
    "    \n",
    "    for i in range(1, 4):\n",
    "        user_agent = random.choice(user_agent_list)\n",
    "    \n",
    "    headers = {\n",
    "        'User-Agent': user_agent\n",
    "    }\n",
    "\n",
    "    return requests.get(url, headers=headers)"
   ]
  },
  {
   "cell_type": "markdown",
   "id": "e93711dd-6e2b-489f-8dd1-1ccb0d43f052",
   "metadata": {},
   "source": [
    "## Links and Its Descriptions"
   ]
  },
  {
   "cell_type": "code",
   "execution_count": 3,
   "id": "a020695f-46d8-49e1-9f01-5517df8eeabb",
   "metadata": {},
   "outputs": [],
   "source": [
    "links = {\n",
    "    'tournament': 'https://www.sofascore.com/api/v1/unique-tournament/1',\n",
    "    'tournament_seasons': 'https://www.sofascore.com/api/v1/unique-tournament/1/seasons',\n",
    "    'tournament_groups': 'https://www.sofascore.com/api/v1/unique-tournament/1/season/56953/groups',\n",
    "    'tournament_events': 'https://www.sofascore.com/api/v1/tournament/1688/season/56953/events'\n",
    "}"
   ]
  },
  {
   "cell_type": "markdown",
   "id": "91e713ab-f87c-4050-a453-e9ab65880e73",
   "metadata": {},
   "source": [
    "## Extracting Tournament Details."
   ]
  },
  {
   "cell_type": "code",
   "execution_count": 4,
   "id": "e15ab30f-7eaa-433a-9521-a476ed39954d",
   "metadata": {},
   "outputs": [],
   "source": [
    "req = make_request(links['tournament'])"
   ]
  },
  {
   "cell_type": "code",
   "execution_count": 5,
   "id": "5555a417-e136-4317-9a09-caec5be756ed",
   "metadata": {},
   "outputs": [],
   "source": [
    "data = req.json()['uniqueTournament']"
   ]
  },
  {
   "cell_type": "code",
   "execution_count": 6,
   "id": "a9cb8c14-1c57-4d4f-bfc5-fabc66a42b28",
   "metadata": {},
   "outputs": [],
   "source": [
    "tournament_data = {\n",
    "    'name': data['name'],\n",
    "    'slug': data['slug'],\n",
    "    'category': data['category']['name'],\n",
    "    'category_slug': data['category']['slug'],\n",
    "    'category_sofascore_id': data['category']['id'],\n",
    "    'tournament_start_timestamp': datetime.fromtimestamp(data['startDateTimestamp']),\n",
    "    'tournament_end_timestamp': datetime.fromtimestamp(data['endDateTimestamp']),\n",
    "}"
   ]
  },
  {
   "cell_type": "code",
   "execution_count": 7,
   "id": "7a6fe2fa-3546-4ea3-bb46-a9e7d6068221",
   "metadata": {},
   "outputs": [
    {
     "data": {
      "text/plain": [
       "{'name': 'EURO',\n",
       " 'slug': 'european-championship',\n",
       " 'category': 'Europe',\n",
       " 'category_slug': 'europe',\n",
       " 'category_sofascore_id': 1465,\n",
       " 'tournament_start_timestamp': datetime.datetime(2024, 6, 15, 0, 30),\n",
       " 'tournament_end_timestamp': datetime.datetime(2024, 7, 15, 2, 30)}"
      ]
     },
     "execution_count": 7,
     "metadata": {},
     "output_type": "execute_result"
    }
   ],
   "source": [
    "tournament_data"
   ]
  },
  {
   "cell_type": "markdown",
   "id": "8d78fa10-c244-460c-839d-004973695bf7",
   "metadata": {},
   "source": [
    "## Getting the Tournament Seasons."
   ]
  },
  {
   "cell_type": "code",
   "execution_count": 8,
   "id": "9c0f50c9-5ef3-4d8f-a419-07f9df6b4281",
   "metadata": {},
   "outputs": [],
   "source": [
    "req = make_request(links['tournament_seasons'])"
   ]
  },
  {
   "cell_type": "code",
   "execution_count": 9,
   "id": "082cd451-c14a-4e12-a567-abda5b442203",
   "metadata": {},
   "outputs": [],
   "source": [
    "seasons_data = req.json()['seasons']"
   ]
  },
  {
   "cell_type": "code",
   "execution_count": 10,
   "id": "7a3130ab-100f-466c-8490-a087ee8ace5e",
   "metadata": {},
   "outputs": [],
   "source": [
    "tournament_seasons = list()\n",
    "for season in seasons_data:\n",
    "    tmp_data = dict()\n",
    "    tmp_data['name'] = season['name']\n",
    "    tmp_data['year'] = season['year']\n",
    "    tmp_data['sofascore_id'] = season['id']\n",
    "    tournament_seasons.append(tmp_data)"
   ]
  },
  {
   "cell_type": "code",
   "execution_count": 11,
   "id": "a8486f8e-0b27-4d05-a0af-4645b5312e31",
   "metadata": {},
   "outputs": [
    {
     "data": {
      "text/plain": [
       "[{'name': 'EURO 2024', 'year': '2024', 'sofascore_id': 56953},\n",
       " {'name': 'Euro Cup 2020', 'year': '2021', 'sofascore_id': 26542},\n",
       " {'name': 'European Championship 2016', 'year': '2016', 'sofascore_id': 11098},\n",
       " {'name': 'European Championship 2012', 'year': '2012', 'sofascore_id': 4136},\n",
       " {'name': 'Euro Cup 2008', 'year': '2008', 'sofascore_id': 1162},\n",
       " {'name': 'Euro Cup 2004', 'year': '2004', 'sofascore_id': 356},\n",
       " {'name': 'Euro Cup 2000', 'year': '2000', 'sofascore_id': 358},\n",
       " {'name': 'Euro Cup 1996', 'year': '1996', 'sofascore_id': 27053},\n",
       " {'name': 'Euro Cup 1992', 'year': '1992', 'sofascore_id': 27052},\n",
       " {'name': 'Euro Cup 1988', 'year': '1988', 'sofascore_id': 27051},\n",
       " {'name': 'Euro Cup 1984', 'year': '1984', 'sofascore_id': 27048},\n",
       " {'name': 'Euro Cup 1980', 'year': '1980', 'sofascore_id': 27046},\n",
       " {'name': 'Euro Cup 1976', 'year': '1976', 'sofascore_id': 27049},\n",
       " {'name': 'Euro Cup 1972', 'year': '1972', 'sofascore_id': 27050},\n",
       " {'name': 'Euro Cup 1968', 'year': '1968', 'sofascore_id': 27047},\n",
       " {'name': 'Euro Cup 1964', 'year': '1964', 'sofascore_id': 27045},\n",
       " {'name': 'Euro Cup 1960', 'year': '1960', 'sofascore_id': 27044}]"
      ]
     },
     "execution_count": 11,
     "metadata": {},
     "output_type": "execute_result"
    }
   ],
   "source": [
    "tournament_seasons"
   ]
  },
  {
   "cell_type": "markdown",
   "id": "8f201b61-3266-44b5-ac0c-29a6a576b04e",
   "metadata": {},
   "source": [
    "## Fetching Tournament Groups."
   ]
  },
  {
   "cell_type": "code",
   "execution_count": 12,
   "id": "4ad4cad3-92b4-48af-ae42-e340e58eb06a",
   "metadata": {},
   "outputs": [],
   "source": [
    "req = make_request(f'https://www.sofascore.com/api/v1/unique-tournament/1/season/{tournament_seasons[0][\"sofascore_id\"]}/groups')"
   ]
  },
  {
   "cell_type": "code",
   "execution_count": 13,
   "id": "295e592b-058c-4005-944b-5f54abc0b721",
   "metadata": {},
   "outputs": [],
   "source": [
    "groups = req.json()['groups']"
   ]
  },
  {
   "cell_type": "markdown",
   "id": "2c684b89-d720-4916-923e-a86e6dea1a6f",
   "metadata": {},
   "source": [
    "### fetching group events."
   ]
  },
  {
   "cell_type": "code",
   "execution_count": 14,
   "id": "240fcd56-747a-4bf1-8884-5700e137a60c",
   "metadata": {},
   "outputs": [
    {
     "data": {
      "text/plain": [
       "[{'tournamentId': 1688, 'groupName': 'Group A'},\n",
       " {'tournamentId': 1685, 'groupName': 'Group B'},\n",
       " {'tournamentId': 1686, 'groupName': 'Group C'},\n",
       " {'tournamentId': 1687, 'groupName': 'Group D'},\n",
       " {'tournamentId': 50059, 'groupName': 'Group E'},\n",
       " {'tournamentId': 50060, 'groupName': 'Group F'}]"
      ]
     },
     "execution_count": 14,
     "metadata": {},
     "output_type": "execute_result"
    }
   ],
   "source": [
    "groups"
   ]
  },
  {
   "cell_type": "code",
   "execution_count": 15,
   "id": "c901dc27-c6b5-478f-ab99-c8cba94d051c",
   "metadata": {},
   "outputs": [],
   "source": [
    "group_ids: typing.List[typing.Tuple[int, str]] = [tuple(x.values()) for x in groups]"
   ]
  },
  {
   "cell_type": "code",
   "execution_count": 16,
   "id": "2e476350-a377-4cf1-b442-fa151ca23b95",
   "metadata": {},
   "outputs": [],
   "source": [
    "req = make_request(f'https://www.sofascore.com/api/v1/tournament/{group_ids[0][0]}/season/56953/events')"
   ]
  },
  {
   "cell_type": "code",
   "execution_count": 17,
   "id": "bc9fe0bf-47f6-4d87-a36c-ffcbfbd0ebdd",
   "metadata": {
    "scrolled": true
   },
   "outputs": [],
   "source": [
    "tournament_events = req.json()['events']"
   ]
  },
  {
   "cell_type": "code",
   "execution_count": 18,
   "id": "7d5a03ad-cd97-4627-b6bd-186a0e22615b",
   "metadata": {},
   "outputs": [],
   "source": [
    "tournament_matches = list()\n",
    "for match in tournament_events:\n",
    "    tmp_data = {}\n",
    "    tmp_data['league_stage'] = { \n",
    "        'sofascore_id': match['tournament']['id'],\n",
    "        'name': match['tournament']['name'],\n",
    "        'slug': match['tournament']['slug']\n",
    "    }\n",
    "    tmp_data['tournament'] = {\n",
    "        'name': match['tournament']['uniqueTournament']['name'],\n",
    "        'slug': match['tournament']['uniqueTournament']['slug'],\n",
    "        'id': match['tournament']['uniqueTournament']['id'],\n",
    "    }\n",
    "    tmp_data['league_season'] = { \n",
    "        'name': match['season']['name'],\n",
    "        'year': match['season']['year'],\n",
    "        'sofascore_id': match['season']['id']\n",
    "    }\n",
    "    tmp_data['match_sofascore_id'] = match['id']\n",
    "    tmp_data['homeTeam'] = { \n",
    "        'name': match['homeTeam']['name'],\n",
    "        'slug': match['homeTeam']['slug'],\n",
    "        'nameCode': match['homeTeam']['nameCode'],\n",
    "        'sofascore_id': match['homeTeam']['id'],\n",
    "    }\n",
    "    tmp_data['awayTeam'] = {\n",
    "        'name': match['awayTeam']['name'],\n",
    "        'slug': match['awayTeam']['slug'],\n",
    "        'nameCode': match['awayTeam']['nameCode'],\n",
    "        'sofascore_id': match['awayTeam']['id'],\n",
    "    }\n",
    "    tmp_data['startTimestamp'] = datetime.fromtimestamp(match['startTimestamp'])\n",
    "    tournament_matches.append(tmp_data)"
   ]
  },
  {
   "cell_type": "code",
   "execution_count": 19,
   "id": "6acc577b-e645-48be-9e91-52b9fb302763",
   "metadata": {
    "scrolled": true
   },
   "outputs": [
    {
     "data": {
      "text/plain": [
       "[{'league_stage': {'sofascore_id': 1688,\n",
       "   'name': 'Euro, Group A',\n",
       "   'slug': 'uefa-euro-group-a'},\n",
       "  'tournament': {'name': 'EURO', 'slug': 'european-championship', 'id': 1},\n",
       "  'league_season': {'name': 'EURO 2024',\n",
       "   'year': '2024',\n",
       "   'sofascore_id': 56953},\n",
       "  'match_sofascore_id': 11873905,\n",
       "  'homeTeam': {'name': 'Germany',\n",
       "   'slug': 'germany',\n",
       "   'nameCode': 'GER',\n",
       "   'sofascore_id': 4711},\n",
       "  'awayTeam': {'name': 'Scotland',\n",
       "   'slug': 'scotland',\n",
       "   'nameCode': 'SCO',\n",
       "   'sofascore_id': 4695},\n",
       "  'startTimestamp': datetime.datetime(2024, 6, 15, 0, 30)},\n",
       " {'league_stage': {'sofascore_id': 1688,\n",
       "   'name': 'Euro, Group A',\n",
       "   'slug': 'uefa-euro-group-a'},\n",
       "  'tournament': {'name': 'EURO', 'slug': 'european-championship', 'id': 1},\n",
       "  'league_season': {'name': 'EURO 2024',\n",
       "   'year': '2024',\n",
       "   'sofascore_id': 56953},\n",
       "  'match_sofascore_id': 11873897,\n",
       "  'homeTeam': {'name': 'Hungary',\n",
       "   'slug': 'hungary',\n",
       "   'nameCode': 'HUN',\n",
       "   'sofascore_id': 4709},\n",
       "  'awayTeam': {'name': 'Switzerland',\n",
       "   'slug': 'switzerland',\n",
       "   'nameCode': 'SUI',\n",
       "   'sofascore_id': 4699},\n",
       "  'startTimestamp': datetime.datetime(2024, 6, 15, 18, 30)},\n",
       " {'league_stage': {'sofascore_id': 1688,\n",
       "   'name': 'Euro, Group A',\n",
       "   'slug': 'uefa-euro-group-a'},\n",
       "  'tournament': {'name': 'EURO', 'slug': 'european-championship', 'id': 1},\n",
       "  'league_season': {'name': 'EURO 2024',\n",
       "   'year': '2024',\n",
       "   'sofascore_id': 56953},\n",
       "  'match_sofascore_id': 11873900,\n",
       "  'homeTeam': {'name': 'Germany',\n",
       "   'slug': 'germany',\n",
       "   'nameCode': 'GER',\n",
       "   'sofascore_id': 4711},\n",
       "  'awayTeam': {'name': 'Hungary',\n",
       "   'slug': 'hungary',\n",
       "   'nameCode': 'HUN',\n",
       "   'sofascore_id': 4709},\n",
       "  'startTimestamp': datetime.datetime(2024, 6, 19, 21, 30)},\n",
       " {'league_stage': {'sofascore_id': 1688,\n",
       "   'name': 'Euro, Group A',\n",
       "   'slug': 'uefa-euro-group-a'},\n",
       "  'tournament': {'name': 'EURO', 'slug': 'european-championship', 'id': 1},\n",
       "  'league_season': {'name': 'EURO 2024',\n",
       "   'year': '2024',\n",
       "   'sofascore_id': 56953},\n",
       "  'match_sofascore_id': 11873903,\n",
       "  'homeTeam': {'name': 'Scotland',\n",
       "   'slug': 'scotland',\n",
       "   'nameCode': 'SCO',\n",
       "   'sofascore_id': 4695},\n",
       "  'awayTeam': {'name': 'Switzerland',\n",
       "   'slug': 'switzerland',\n",
       "   'nameCode': 'SUI',\n",
       "   'sofascore_id': 4699},\n",
       "  'startTimestamp': datetime.datetime(2024, 6, 20, 0, 30)},\n",
       " {'league_stage': {'sofascore_id': 1688,\n",
       "   'name': 'Euro, Group A',\n",
       "   'slug': 'uefa-euro-group-a'},\n",
       "  'tournament': {'name': 'EURO', 'slug': 'european-championship', 'id': 1},\n",
       "  'league_season': {'name': 'EURO 2024',\n",
       "   'year': '2024',\n",
       "   'sofascore_id': 56953},\n",
       "  'match_sofascore_id': 11873902,\n",
       "  'homeTeam': {'name': 'Switzerland',\n",
       "   'slug': 'switzerland',\n",
       "   'nameCode': 'SUI',\n",
       "   'sofascore_id': 4699},\n",
       "  'awayTeam': {'name': 'Germany',\n",
       "   'slug': 'germany',\n",
       "   'nameCode': 'GER',\n",
       "   'sofascore_id': 4711},\n",
       "  'startTimestamp': datetime.datetime(2024, 6, 24, 0, 30)},\n",
       " {'league_stage': {'sofascore_id': 1688,\n",
       "   'name': 'Euro, Group A',\n",
       "   'slug': 'uefa-euro-group-a'},\n",
       "  'tournament': {'name': 'EURO', 'slug': 'european-championship', 'id': 1},\n",
       "  'league_season': {'name': 'EURO 2024',\n",
       "   'year': '2024',\n",
       "   'sofascore_id': 56953},\n",
       "  'match_sofascore_id': 11873899,\n",
       "  'homeTeam': {'name': 'Scotland',\n",
       "   'slug': 'scotland',\n",
       "   'nameCode': 'SCO',\n",
       "   'sofascore_id': 4695},\n",
       "  'awayTeam': {'name': 'Hungary',\n",
       "   'slug': 'hungary',\n",
       "   'nameCode': 'HUN',\n",
       "   'sofascore_id': 4709},\n",
       "  'startTimestamp': datetime.datetime(2024, 6, 24, 0, 30)}]"
      ]
     },
     "execution_count": 19,
     "metadata": {},
     "output_type": "execute_result"
    }
   ],
   "source": [
    "tournament_matches"
   ]
  },
  {
   "cell_type": "code",
   "execution_count": null,
   "id": "3bab9719-5847-40d0-beb2-55535032e0f6",
   "metadata": {},
   "outputs": [],
   "source": []
  }
 ],
 "metadata": {
  "kernelspec": {
   "display_name": "Python 3 (ipykernel)",
   "language": "python",
   "name": "python3"
  },
  "language_info": {
   "codemirror_mode": {
    "name": "ipython",
    "version": 3
   },
   "file_extension": ".py",
   "mimetype": "text/x-python",
   "name": "python",
   "nbconvert_exporter": "python",
   "pygments_lexer": "ipython3",
   "version": "3.10.12"
  }
 },
 "nbformat": 4,
 "nbformat_minor": 5
}
